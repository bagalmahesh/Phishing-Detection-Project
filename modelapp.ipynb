{
 "cells": [
  {
   "cell_type": "code",
   "execution_count": 1,
   "id": "90a03eab",
   "metadata": {},
   "outputs": [],
   "source": [
    "#!/usr/bin/env python\n",
    "# coding: utf-8\n",
    "\n",
    "# In[1]:\n",
    "\n",
    "\n",
    "from flask import Flask, request, jsonify, Response\n",
    "import torch\n",
    "import torch.nn as nn\n",
    "from flask_cors import CORS\n",
    "from model import GRUModel\n",
    "\n",
    "\n",
    "# In[2]:\n",
    "\n",
    "\n",
    "app = Flask(__name__)\n",
    "CORS(app, resources={r\"/*\": {\"origins\": \"*\"}})\n",
    "\n",
    "\n",
    "# In[3]:\n",
    "\n",
    "\n",
    "# Load the model\n",
    "input_size = 100\n",
    "hidden_size = 64\n",
    "output_size = 2\n",
    "num_layers = 2\n",
    "\n",
    "# Load the model and define the device\n",
    "device = torch.device('cuda' if torch.cuda.is_available() else 'cpu')\n",
    "model = GRUModel(input_size,hidden_size,output_size,num_layers)  # Modify this line to load your model\n",
    "model.load_state_dict(torch.load('model.pth', map_location=device))\n",
    "model = model.to(device)\n",
    "model.eval()\n",
    "\n",
    "\n",
    "# In[4]:\n",
    "\n",
    "\n",
    "@app.route('/epredict', methods=['POST'])\n",
    "def predict():\n",
    "    url = request.json['url']\n",
    "    feature = convert_url_to_feature(url)  # Modify this line to extract features from the URL\n",
    "    feature = feature.unsqueeze(0)\n",
    "    feature = feature.float().to(device)\n",
    "\n",
    "    with torch.no_grad():\n",
    "        output = model(feature, device)\n",
    "        probabilities = nn.functional.softmax(output, dim=1)[0]\n",
    "        predicted_class = torch.argmax(probabilities).item()\n",
    "\n",
    "    result = \"Phishing\" if predicted_class == 1 else \"Legitimate\"\n",
    "    # Set CORS headers\n",
    "    response = jsonify({'result': result})\n",
    "    response.headers.add('Access-Control-Allow-Origin', '*')\n",
    "    response.headers.add('Access-Control-Allow-Methods', 'POST')  # Set the allowed methods if needed\n",
    "    response.headers.add('Access-Control-Allow-Private-Network', 'true')  # Add this header to allow private network access\n",
    "\n",
    "    \n",
    "    return response\n",
    "\n",
    "\n",
    "# In[5]:\n",
    "\n",
    "\n",
    "def convert_url_to_feature(url):\n",
    "    char_dict = {\n",
    "        '0': 0, '1': 1, '2': 2, '3': 3, '4': 4, '5': 5, '6': 6, '7': 7, '8': 8, '9': 9,\n",
    "        'a': 10, 'b': 11, 'c': 12, 'd': 13, 'e': 14, 'f': 15, 'g': 16, 'h': 17, 'i': 18, 'j': 19,\n",
    "        'k': 20, 'l': 21, 'm': 22, 'n': 23, 'o': 24, 'p': 25, 'q': 26, 'r': 27, 's': 28, 't': 29,\n",
    "        'u': 30, 'v': 31, 'w': 32, 'x': 33, 'y': 34, 'z': 35, 'A': 36, 'B': 37, 'C': 38, 'D': 39,\n",
    "        'E': 40, 'F': 41, 'G': 42, 'H': 43, 'I': 44, 'J': 45, 'K': 46, 'L': 47, 'M': 48, 'N': 49,\n",
    "        'O': 50, 'P': 51, 'Q': 52, 'R': 53, 'S': 54, 'T': 55, 'U': 56, 'V': 57, 'W': 58, 'X': 59,\n",
    "        'Y': 60, 'Z': 61, '-': 62, ',': 63, ';': 64, '.': 65, '!': 66, '?': 67, ':': 68, \"'\": 69,\n",
    "        '\"': 70, '/': 71, '\\\\': 72, '|': 73, '_': 74, '@': 75, '#': 76, '$': 77, '%': 78, '^': 79,\n",
    "        '&': 80, '*': 81, '~': 82, '`': 83, '+': 84, '-': 85, '=': 86, '<': 87, '>': 88, '(': 89,\n",
    "        ')': 90, '[': 91, ']': 92, '{': 93, '}': 94, '\\t': 95, '\\n': 96, '\\x0b': 97, '\\x0c': 98\n",
    "    }\n",
    "    \n",
    "    feature = torch.zeros(200, 100)\n",
    "    for i, char in enumerate(url):\n",
    "        if i >= 200:\n",
    "            break\n",
    "        if char in char_dict:\n",
    "            feature[i, char_dict[char]] = 1\n",
    "    \n",
    "    return feature\n",
    "\n"
   ]
  },
  {
   "cell_type": "code",
   "execution_count": null,
   "id": "5f187434",
   "metadata": {},
   "outputs": [
    {
     "name": "stdout",
     "output_type": "stream",
     "text": [
      " * Serving Flask app '__main__'\n",
      " * Debug mode: off\n"
     ]
    },
    {
     "name": "stderr",
     "output_type": "stream",
     "text": [
      "WARNING: This is a development server. Do not use it in a production deployment. Use a production WSGI server instead.\n",
      " * Running on http://127.0.0.1:5000\n",
      "Press CTRL+C to quit\n",
      "127.0.0.1 - - [03/Jun/2023 11:04:55] \"POST /epredict HTTP/1.1\" 200 -\n",
      "127.0.0.1 - - [03/Jun/2023 11:06:50] \"POST /epredict HTTP/1.1\" 200 -\n"
     ]
    }
   ],
   "source": [
    "\n",
    "if __name__ == '__main__':\n",
    "    app.run()\n"
   ]
  },
  {
   "cell_type": "code",
   "execution_count": null,
   "id": "0d6b9dd5",
   "metadata": {},
   "outputs": [],
   "source": []
  },
  {
   "cell_type": "code",
   "execution_count": null,
   "id": "6def02b4",
   "metadata": {},
   "outputs": [],
   "source": []
  }
 ],
 "metadata": {
  "kernelspec": {
   "display_name": "Python 3 (ipykernel)",
   "language": "python",
   "name": "python3"
  },
  "language_info": {
   "codemirror_mode": {
    "name": "ipython",
    "version": 3
   },
   "file_extension": ".py",
   "mimetype": "text/x-python",
   "name": "python",
   "nbconvert_exporter": "python",
   "pygments_lexer": "ipython3",
   "version": "3.9.0"
  }
 },
 "nbformat": 4,
 "nbformat_minor": 5
}
